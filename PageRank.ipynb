{
  "nbformat": 4,
  "nbformat_minor": 0,
  "metadata": {
    "coursera": {
      "course_slug": "linear-algebra-machine-learning",
      "graded_item_id": "Sfbnp",
      "launcher_item_id": "aPxf3"
    },
    "kernelspec": {
      "display_name": "Python 3",
      "language": "python",
      "name": "python3"
    },
    "language_info": {
      "codemirror_mode": {
        "name": "ipython",
        "version": 3
      },
      "file_extension": ".py",
      "mimetype": "text/x-python",
      "name": "python",
      "nbconvert_exporter": "python",
      "pygments_lexer": "ipython3",
      "version": "3.6.0"
    },
    "colab": {
      "name": "PageRank.ipynb",
      "provenance": [],
      "include_colab_link": true
    }
  },
  "cells": [
    {
      "cell_type": "markdown",
      "metadata": {
        "id": "view-in-github",
        "colab_type": "text"
      },
      "source": [
        "<a href=\"https://colab.research.google.com/github/StalKlim/colab_spec_glav/blob/main/PageRank.ipynb\" target=\"_parent\"><img src=\"https://colab.research.google.com/assets/colab-badge.svg\" alt=\"Open In Colab\"/></a>"
      ]
    },
    {
      "cell_type": "markdown",
      "metadata": {
        "collapsed": true,
        "id": "6wUTaJJka9-5"
      },
      "source": [
        "# PageRank\n",
        "В этом блокноте вы расширите свои знания о собственных векторах и собственных значениях, изучая алгоритм PageRank. Блокнот состоит из двух частей: первая представляет собой рабочий лист, который поможет вам быстрее понять, как работает алгоритм - здесь мы рассмотрим микроинтернет с менее чем 10 веб-сайтами и посмотрим, что он делает и что может пойти не так. Второй - это оценка, которая проверяет ваше применение собственной теории к этой проблеме путем написания кода и вычисления рейтинга страницы в большой сети, представляющей подсекцию Интернета."
      ]
    },
    {
      "cell_type": "markdown",
      "metadata": {
        "id": "YKBZr9NLa9-5"
      },
      "source": [
        "## Part 1 - Worksheet\n",
        "### Introduction\n",
        "\n",
        "PageRank (разработанный Ларри Пейджем и Сергеем Брином) произвел революцию в веб-поиске, создав ранжированный список веб-страниц на основе базовых возможностей подключения к сети.\n",
        "\n",
        "Алгоритм PageRank основан на идеальном случайном веб-серфере, который при переходе на страницу переходит на следующую страницу, щелкая ссылку. Пользователь имеет равную вероятность щелкнуть любую ссылку на странице и, достигнув страницы без ссылок, имеет равную вероятность перехода на любую другую страницу, введя ее URL. Кроме того, пользователь может иногда выбирать случайный URL вместо перехода по ссылкам на странице. PageRank - это ранжированный порядок страниц от наиболее к наименее вероятной странице, которую будет просматривать пользователь.\n"
      ]
    },
    {
      "cell_type": "code",
      "metadata": {
        "id": "C0K3t8MqbjNT",
        "outputId": "9c297624-dbaf-4a2a-c050-b8372d7cc99f",
        "colab": {
          "base_uri": "https://localhost:8080/"
        }
      },
      "source": [
        "!wget https://github.com/andrew-veriga/MathForML/raw/master/MathForMLAssignes.zip\n",
        "!unzip -u MathForMLAssignes.zip\n",
        "!rm MathForMLAssignes.zip"
      ],
      "execution_count": 1,
      "outputs": [
        {
          "output_type": "stream",
          "name": "stdout",
          "text": [
            "--2023-10-16 00:03:35--  https://github.com/andrew-veriga/MathForML/raw/master/MathForMLAssignes.zip\n",
            "Resolving github.com (github.com)... 140.82.112.4\n",
            "Connecting to github.com (github.com)|140.82.112.4|:443... connected.\n",
            "HTTP request sent, awaiting response... 302 Found\n",
            "Location: https://raw.githubusercontent.com/andrew-veriga/MathForML/master/MathForMLAssignes.zip [following]\n",
            "--2023-10-16 00:03:35--  https://raw.githubusercontent.com/andrew-veriga/MathForML/master/MathForMLAssignes.zip\n",
            "Resolving raw.githubusercontent.com (raw.githubusercontent.com)... 185.199.108.133, 185.199.109.133, 185.199.110.133, ...\n",
            "Connecting to raw.githubusercontent.com (raw.githubusercontent.com)|185.199.108.133|:443... connected.\n",
            "HTTP request sent, awaiting response... 200 OK\n",
            "Length: 2369 (2.3K) [application/zip]\n",
            "Saving to: ‘MathForMLAssignes.zip’\n",
            "\n",
            "MathForMLAssignes.z 100%[===================>]   2.31K  --.-KB/s    in 0s      \n",
            "\n",
            "2023-10-16 00:03:35 (44.9 MB/s) - ‘MathForMLAssignes.zip’ saved [2369/2369]\n",
            "\n",
            "Archive:  MathForMLAssignes.zip\n",
            "  inflating: bearNecessities.py      \n",
            "  inflating: PageRankFunctions.py    \n"
          ]
        }
      ]
    },
    {
      "cell_type": "code",
      "metadata": {
        "id": "oDNvQfbfa9-5",
        "outputId": "c590a504-2e48-41cd-a5d0-1a5d6e6d3e64",
        "colab": {
          "base_uri": "https://localhost:8080/"
        }
      },
      "source": [
        "# Before we begin, let's load the libraries.\n",
        "%pylab notebook\n",
        "import numpy as np\n",
        "import numpy.linalg as la\n",
        "from PageRankFunctions import *\n",
        "np.set_printoptions(suppress=True)"
      ],
      "execution_count": 2,
      "outputs": [
        {
          "output_type": "stream",
          "name": "stdout",
          "text": [
            "Populating the interactive namespace from numpy and matplotlib\n"
          ]
        }
      ]
    },
    {
      "cell_type": "markdown",
      "metadata": {
        "id": "pusP8gU7a9-6"
      },
      "source": [
        "### PageRank как задача линейной алгебры\n",
        "Представьте себе микроинтернет в котором есть только 6 вебсайтов (**A**vocado, **B**ullseye, **C**atBabel, **D**romeda, **e**Tings, and **F**aceSpace).\n",
        "Каждый веб-сайт ссылается на некоторые другие, и все они образуют сеть, как показано на рисунке.\n",
        "\n",
        "![A Micro-Internet](https://github.com/andrew-veriga/MathForML/raw/master/internet.png \"A Micro-Internet\")\n",
        "\n",
        "Принцип построения PageRank заключается в том, что важные веб-сайты будут ссылаться на важные веб-сайты.\n",
        "Этот несколько рекурсивный принцип ляжет в основу нашей идеи.\n",
        "\n",
        "Представьте себе 100 *Прокрастинирующих Патов* в нашем микро-Интернете, каждый просматривает один веб-сайт в один момент времени.\n",
        "\n",
        "Каждую минуту Паты переходят на своем сайте по ссылке на другой сайт в микроинтернет.\n",
        "\n",
        "Через некоторое время веб-сайты, на которые больше всего ссылаются, будут посещать больше Патов, и в конечном итоге на каждой минуте вместо одного Пата, покидающего веб-сайт, будет входить другой, сохраняя общее количество Патов на каждом веб-сайте постоянным.\n",
        "PageRank - это просто рейтинг веб-сайтов по тому, сколько на них отметок в конце этого процесса.\n",
        "\n",
        "Мы представляем количество Патов на каждом веб-сайте вектором,\n",
        "$$\\mathbf{r} = \\begin{bmatrix} r_A \\\\ r_B \\\\ r_C \\\\ r_D \\\\ r_E \\\\ r_F \\end{bmatrix}$$\n",
        "И пусть количество Патов на каждом веб-сайте в минуту $ i + 1 $ выводится из количества Патов в минуту $ i $ посредством преобразования матрицы.\n",
        "\n",
        "\n",
        "$$ \\mathbf{r}^{(i+1)} = L \\,\\mathbf{r}^{(i)}$$\n",
        "с матрицей $L$, имеющей вид,\n",
        "$$ L = \\begin{bmatrix}\n",
        "L_{A→A} & L_{B→A} & L_{C→A} & L_{D→A} & L_{E→A} & L_{F→A} \\\\\n",
        "L_{A→B} & L_{B→B} & L_{C→B} & L_{D→B} & L_{E→B} & L_{F→B} \\\\\n",
        "L_{A→C} & L_{B→C} & L_{C→C} & L_{D→C} & L_{E→C} & L_{F→C} \\\\\n",
        "L_{A→D} & L_{B→D} & L_{C→D} & L_{D→D} & L_{E→D} & L_{F→D} \\\\\n",
        "L_{A→E} & L_{B→E} & L_{C→E} & L_{D→E} & L_{E→E} & L_{F→E} \\\\\n",
        "L_{A→F} & L_{B→F} & L_{C→F} & L_{D→F} & L_{E→F} & L_{F→F} \\\\\n",
        "\\end{bmatrix}\n",
        "$$\n",
        "где столбцы представляют вероятность *ухода* с веб-сайта на любой другой веб-сайта, а сумма равна единице.\n",
        "Строки определяют, вероятность *входа* на веб-сайт с любого другого, и их сумма не должна равняться единице.\n",
        "Долгое время поведение этой системы - это когда $ \\mathbf{r}^{(i+1)} = \\mathbf{r}^{(i)}$, поэтому мы опустим здесь верхние индексы, и это позволяет нам писать,\n",
        "$$ L \\,\\mathbf{r} = \\mathbf{r}$$\n",
        "\n",
        "которое является уравнением на собственные значения для матрицы $L$ с собственным значением 1 (это гарантируется вероятностной структурой матрицы $L$)\n",
        "\n",
        "Заполните матрицу $ L $ ниже, в которой не указан столбец для веб-сайта *FaceSpace* (**F**).\n",
        "\n",
        "Помните, что это вероятность ухода с соотвествующего столбцу веб-сайта на другой, поэтому каждый столбец в сумме должен равняться единице (путем масштабирования по количеству ссылок)."
      ]
    },
    {
      "cell_type": "code",
      "metadata": {
        "id": "AphP8ruea9-6"
      },
      "source": [
        "# RЗаменить ??? здесь с вероятностью перехода по ссылке на каждый веб-сайт при выходе с веб-сайта F (FaceSpace).\n",
        "L = np.array([[0,   1/2, 1/3, 0, 0,   0 ],\n",
        "              [1/3, 0,   0,   0, 1/2, 0 ],\n",
        "              [1/3, 1/2, 0,   1, 0,   1/2 ],\n",
        "              [1/3, 0,   1/3, 0, 1/2, 1/2 ],\n",
        "              [0,   0,   0,   0, 0,   0 ],\n",
        "              [0,   0,   1/3, 0, 0,   0 ]])"
      ],
      "execution_count": 3,
      "outputs": []
    },
    {
      "cell_type": "markdown",
      "metadata": {
        "id": "dXcJEnV-a9-6"
      },
      "source": [
        "В принципе, мы могли бы использовать библиотеку линейной алгебры, как показано ниже, для вычисления собственных значений и векторов.\n",
        "\n",
        "И это сработает для небольшой системы. Но для больших систем это становится неуправляемым.\n",
        "\n",
        "А поскольку нас интересует только главный собственный вектор (тот, который имеет наибольшее собственное значение, которое в данном случае будет равно 1), мы можем использовать метод *степенной итерации*, который будет лучше масштабироваться, и он быстрее для больших систем.\n",
        "\n",
        "Используйте приведенный ниже код, чтобы узнать рейтинг страницы для этого микроинтернета."
      ]
    },
    {
      "cell_type": "code",
      "metadata": {
        "id": "D3znpS3ja9-6",
        "outputId": "65434da7-b656-4e55-d960-ac987f30cb86",
        "colab": {
          "base_uri": "https://localhost:8080/"
        }
      },
      "source": [
        "eVals, eVecs = la.eig(L) # Возвращает собственные вектор и значение\n",
        "order = np.absolute(eVals).argsort()[::-1] # Сортирует их по собственным значениям\n",
        "eVals = eVals[order]\n",
        "eVecs = eVecs[:,order]\n",
        "\n",
        "r = eVecs[:, 0] # Присваивает r главный собственный вектор\n",
        "100 * np.real(r / np.sum(r)) # приводит сумму собственных векторов к единице и умножает на количество прокрастинирующих Патов"
      ],
      "execution_count": 4,
      "outputs": [
        {
          "output_type": "execute_result",
          "data": {
            "text/plain": [
              "array([16.        ,  5.33333333, 40.        , 25.33333333,  0.        ,\n",
              "       13.33333333])"
            ]
          },
          "metadata": {},
          "execution_count": 4
        }
      ]
    },
    {
      "cell_type": "markdown",
      "metadata": {
        "id": "lUiFZ74Va9-6"
      },
      "source": [
        "Из этого списка мы можем увидеть количество откладываний на потом, которые мы ожидаем найти на каждом веб-сайте спустя долгое время.\n",
        "отсортированный по убыванию * популярности * (на основе этого показателя), рейтинг PageRank этого микроинтернета составляет:\n",
        "\n",
        "**C**atBabel, **D**romeda, **A**vocado, **F**aceSpace, **B**ullseye, **e**Tings\n",
        "\n",
        "Смотря на схему микро-интернета, вы этого ожидали?\n",
        "Убедитесь, что это разумный рейтинг: страницы выглядят важными, судя по количеству ссылок на них.\n",
        "\n",
        "Давайте теперь попробуем получить тот же результат, используя метод Power-Iteration, который был рассмотрен в лекции.\n",
        "Этот метод будет намного лучше при работе с большими системами.\n",
        "\n",
        "Сначала давайте настроим наш начальный вектор, $\\mathbf{r}^{(0)}$,\n",
        "так, чтобы у нас были 100 прокрастинирующих Патов, равномерно распределенных по всем нашим 6 веб-сайтам."
      ]
    },
    {
      "cell_type": "code",
      "metadata": {
        "id": "QdZBRCWOa9-6",
        "outputId": "c02575a8-3431-42fb-ee46-488e7cc3189e",
        "colab": {
          "base_uri": "https://localhost:8080/"
        }
      },
      "source": [
        "r = 100 * np.ones(6) / 6 # Устанавливает этот вектор (6 записей размером 1/6 × 100 каждая)\n",
        "r # Показывает его значение"
      ],
      "execution_count": 5,
      "outputs": [
        {
          "output_type": "execute_result",
          "data": {
            "text/plain": [
              "array([16.66666667, 16.66666667, 16.66666667, 16.66666667, 16.66666667,\n",
              "       16.66666667])"
            ]
          },
          "metadata": {},
          "execution_count": 5
        }
      ]
    },
    {
      "cell_type": "markdown",
      "metadata": {
        "id": "uwgui2y_a9-6"
      },
      "source": [
        "Затем давайте обновим вектор до следующей минуты с помощью матрицы $L$.\n",
        "Выполняйте следующую ячейку несколько раз, пока ответ не стабилизируется."
      ]
    },
    {
      "cell_type": "code",
      "metadata": {
        "id": "n0rRk04va9-6",
        "outputId": "55d1da91-f243-4884-9302-c8f73628ccf5",
        "colab": {
          "base_uri": "https://localhost:8080/"
        }
      },
      "source": [
        "r = L @ r # Применить преобразование L к r\n",
        "r # Показать его значение\n",
        "# Повторно запустите эту ячейку несколько раз, чтобы получить правильный ответ."
      ],
      "execution_count": 6,
      "outputs": [
        {
          "output_type": "execute_result",
          "data": {
            "text/plain": [
              "array([13.88888889, 13.88888889, 38.88888889, 27.77777778,  0.        ,\n",
              "        5.55555556])"
            ]
          },
          "metadata": {},
          "execution_count": 6
        }
      ]
    },
    {
      "cell_type": "markdown",
      "metadata": {
        "id": "r7OrMUe0a9-6"
      },
      "source": [
        "Мы можем автоматизировать применение этой матрицы несколько раз следующим образом:"
      ]
    },
    {
      "cell_type": "code",
      "metadata": {
        "id": "GTKhmMzDa9-6",
        "outputId": "6ea14fac-b576-4ec2-d33b-9641591b16e4",
        "colab": {
          "base_uri": "https://localhost:8080/"
        }
      },
      "source": [
        "r = 100 * np.ones(6) / 6 # обновить этот вектор единицами (6 записей со значениями = 1/6 × 100 каждая)\n",
        "for i in np.arange(100) : # повторить 100 раз\n",
        "    r = L @ r\n",
        "r"
      ],
      "execution_count": 7,
      "outputs": [
        {
          "output_type": "execute_result",
          "data": {
            "text/plain": [
              "array([16.        ,  5.33333333, 40.        , 25.33333333,  0.        ,\n",
              "       13.33333333])"
            ]
          },
          "metadata": {},
          "execution_count": 7
        }
      ]
    },
    {
      "cell_type": "markdown",
      "metadata": {
        "id": "P6dUINjja9-6"
      },
      "source": [
        "Или, что правильнее, мы можем продолжать цикл, пока не достигнем требуемой точности."
      ]
    },
    {
      "cell_type": "code",
      "metadata": {
        "id": "yRD4ykz5a9-6",
        "outputId": "fa28f6ed-4bf3-44bc-e19f-d9fba36f780f",
        "colab": {
          "base_uri": "https://localhost:8080/"
        }
      },
      "source": [
        "r = 100 * np.ones(6) / 6 # обновить этот вектор единицами (6 записей со значениями = 1/6 × 100 каждая)\n",
        "lastR = r\n",
        "r = L @ r\n",
        "i = 0\n",
        "while la.norm(lastR - r) > 0.01 :\n",
        "    lastR = r\n",
        "    r = L @ r\n",
        "    i += 1\n",
        "print(str(i) + \" iterations to convergence.\")\n",
        "r"
      ],
      "execution_count": 8,
      "outputs": [
        {
          "output_type": "stream",
          "name": "stdout",
          "text": [
            "18 iterations to convergence.\n"
          ]
        },
        {
          "output_type": "execute_result",
          "data": {
            "text/plain": [
              "array([16.00149917,  5.33252025, 39.99916911, 25.3324738 ,  0.        ,\n",
              "       13.33433767])"
            ]
          },
          "metadata": {},
          "execution_count": 8
        }
      ]
    },
    {
      "cell_type": "markdown",
      "metadata": {
        "id": "M4yyl3Iua9-6"
      },
      "source": [
        "Посмотрите, порядок PageRank устанавливается довольно быстро, и вектор сходится к значению, которое мы вычислили ранее, после нескольких десятков повторов.\n",
        "\n",
        "Поздравляю! Вы только что рассчитали свой первый PageRank!"
      ]
    },
    {
      "cell_type": "markdown",
      "metadata": {
        "id": "s2PTKB2Ba9-6"
      },
      "source": [
        "### Параметр демпфирования\n",
        "\n",
        "Система, которую мы только что изучили, довольно быстро пришла к правильному ответу. Давайте рассмотрим расширение нашего микро-интернета, в котором что-то начинает идти не так.\n",
        "\n",
        "Допустим, в микроинтернет добавлен новый веб-сайт: **G**eoff.\n",
        "Этот веб-сайт связан с **F**aceSpace  и ссылается только на себя.\n",
        "\n",
        "![Расширенный микро-интернет](https://github.com/andrew-veriga/MathForML/raw/master/internet2.png \"An Expanded Micro-Internet\")\n",
        "\n",
        "Интуитивно понятно, что только *FaceSpace*, который находится в нижней половине рейтинга страницы, ссылается на этот веб-сайт среди двух других, на которые он ссылается,\n",
        "поэтому мы можем ожидать, что у сайта *Geoff* будет соответственно низкий рейтинг PageRank.\n",
        "\n",
        "Создайте новую матрицу $L$ для расширенного микро-интернета и используйте Power-Iteration для вектора Прокрастинирующий Пат.\n",
        "Посмотрим, что произойдет…"
      ]
    },
    {
      "cell_type": "code",
      "metadata": {
        "id": "Ag8ghJLaa9-6"
      },
      "source": [
        "# Мы назовем её L2, чтобы отличать от предыдущей L\n",
        "L2 = np.array([[0,   1/2, 1/3, 0, 0,   0, 0 ],\n",
        "               [1/3, 0,   0,   0, 1/2, 0, 0 ],\n",
        "               [1/3, 1/2, 0,   1, 0,   1/3, 0 ],\n",
        "               [1/3, 0,   1/3, 0, 1/2, 1/3, 0 ],\n",
        "               [0,   0,   0,   0, 0,   0, 0 ],\n",
        "               [0,   0,   1/3, 0, 0,   0, 0 ],\n",
        "               [0,   0,   0,   0, 0,   1/3, 1 ]])"
      ],
      "execution_count": 9,
      "outputs": []
    },
    {
      "cell_type": "code",
      "metadata": {
        "id": "KmRDqgJwa9-6",
        "outputId": "8a498aea-58db-46c1-ae94-2e66dc18d585",
        "colab": {
          "base_uri": "https://localhost:8080/"
        }
      },
      "source": [
        "r = 100 * np.ones(7) / 7 # задать начальный единичный вектор (7 записей со значениями = 1/7 × 100 каждая)\n",
        "lastR = r\n",
        "r = L2 @ r\n",
        "i = 0\n",
        "while la.norm(lastR - r) > 0.01 :\n",
        "    lastR = r\n",
        "    r = L2 @ r\n",
        "    i += 1\n",
        "print(str(i) + \" итераций до схождения.\")\n",
        "r"
      ],
      "execution_count": 10,
      "outputs": [
        {
          "output_type": "stream",
          "name": "stdout",
          "text": [
            "131 итераций до схождения.\n"
          ]
        },
        {
          "output_type": "execute_result",
          "data": {
            "text/plain": [
              "array([ 0.03046998,  0.01064323,  0.07126612,  0.04423198,  0.        ,\n",
              "        0.02489342, 99.81849527])"
            ]
          },
          "metadata": {},
          "execution_count": 10
        }
      ]
    },
    {
      "cell_type": "markdown",
      "metadata": {
        "id": "R3MfBCn2a9-6"
      },
      "source": [
        "Что-то тут не очень. Похоже, что *Джефф* забирает весь трафик в микро-интернете и каким-то образом занимает верхние позиции в рейтинге страниц.\n",
        "Такое поведение можно понять, потому что как только Пэт попадает на сайт *Джеффа*, он не может покинуть его, так как все ссылки ведут обратно на Джеффа.\n",
        "\n",
        "Чтобы бороться с этим, мы можем добавить небольшую вероятность того, что прокрастинирующие Паты не переходят по какой-либо ссылке на веб-странице, а вместо этого посещают веб-сайт в микроинтернете случайным образом.\n",
        "Пусть вероятность того, что они перейдут по ссылке, составляет $d$, и поэтому вероятность выбора случайного веб-сайта составляет $1-d$.\n",
        "Мы можем использовать новую матрицу, чтобы выяснить, куда каждую минуту заходит Пэт.\n",
        "$$ M = d \\, L + \\frac{1-d}{n} \\, J $$\n",
        "где $J$ - матрица $n\\times n$, где каждый элемент равен единице.\n",
        "\n",
        "Если $ d $ равен единице, у нас тот же случай, что был и раньше, но если $ d $ равен нулю, мы всегда будем посещать случайную веб-страницу, и, следовательно, все веб-страницы будут иметь одинаковую вероятность и равный рейтинг.\n",
        "Чтобы это расширение работало лучше всего, $ 1-d $ должно быть довольно маленьким - хотя мы не будем вдаваться в обсуждение того, насколько он маленький.\n",
        "\n",
        "Давайте повторим этот PageRank с этим расширением."
      ]
    },
    {
      "cell_type": "code",
      "metadata": {
        "id": "areWL0Yna9-7"
      },
      "source": [
        "d = 0.5 # можете поиграть с этим параметром после однократного запуска кода.\n",
        "M = d * L2 + (1-d)/7 * np.ones([7, 7]) # np.ones() - матрица J , состоящая из единиц."
      ],
      "execution_count": 11,
      "outputs": []
    },
    {
      "cell_type": "code",
      "metadata": {
        "id": "MdV38eNda9-7",
        "outputId": "f47b3055-8f77-4936-df41-61a5564a593c",
        "colab": {
          "base_uri": "https://localhost:8080/"
        }
      },
      "source": [
        "r = 100 * np.ones(7) / 7 # вектор из 7 одинаковых значений, каждое равно 1/7 × 100\n",
        "lastR = r\n",
        "r = M @ r\n",
        "i = 0\n",
        "while la.norm(lastR - r) > 0.01 :\n",
        "    lastR = r\n",
        "    r = M @ r\n",
        "    i += 1\n",
        "print(str(i) + \" итераций до схождения.\")\n",
        "r"
      ],
      "execution_count": 12,
      "outputs": [
        {
          "output_type": "stream",
          "name": "stdout",
          "text": [
            "8 итераций до схождения.\n"
          ]
        },
        {
          "output_type": "execute_result",
          "data": {
            "text/plain": [
              "array([13.68217054, 11.20902965, 22.41964343, 16.7593433 ,  7.14285714,\n",
              "       10.87976354, 17.90719239])"
            ]
          },
          "metadata": {},
          "execution_count": 12
        }
      ]
    },
    {
      "cell_type": "markdown",
      "metadata": {
        "id": "RYRCU19-a9-7"
      },
      "source": [
        "Так, безусловно, лучше: PageRank дает разумные числа для прокрастинирующих Патов, которые появляются на каждой веб-странице.\n",
        "Однако этот метод по-прежнему предсказывает, что у Джеффа высокий рейтинг веб-страницы.\n",
        "Это можно рассматривать как следствие использования маленькой сети. Мы также могли бы обойти проблему, не подсчитывая ссылки на себя при создании L-матрицы (если у веб-сайта нет исходящих ссылок, сделайте его ссылающимся на все сайты одинаково).\n",
        "Мы не будем углубляться в этот метод, поскольку это уже сфера улучшения PageRank, а не задач собственных векторов и собственных значений.\n",
        "\n",
        "Теперь, когда вы получили представление о PageRank, вы можете создать свой собственный код для расчета PageRank веб-сайта с тысячами записей.\n",
        "\n",
        "Удачи!"
      ]
    },
    {
      "cell_type": "markdown",
      "metadata": {
        "id": "a3BL5gQGa9-7"
      },
      "source": [
        "## Часть 2 - Задание\n",
        "В этом задании от вас требуется создать функцию, которая может вычислить PageRank для произвольно большой матрицы вероятностей.\n",
        "Это последнее задание курса даст меньше рекомендаций, чем предыдущие.\n",
        "Ожидается, что вы будете использовать код из предыдущего примера и приспособите его под свои нужды.\n",
        "\n"
      ]
    },
    {
      "cell_type": "code",
      "metadata": {
        "id": "Th6xa8MIa9-7"
      },
      "source": [
        "import numpy as np\n",
        "import numpy.linalg as la\n",
        "from PageRankFunctions import *\n",
        "np.set_printoptions(suppress=True)\n",
        "\n",
        "# GRADED FUNCTION\n",
        "# Complete this function to provide the PageRank for an arbitrarily sized internet.\n",
        "# I.e. the principal eigenvector of the damped system, using the power iteration method.\n",
        "# (Normalisation doesn't matter here)\n",
        "# The functions inputs are the linkMatrix, and d the damping parameter - as defined in this worksheet.\n",
        "def pageRank(linkMatrix, d) :\n",
        "    n = linkMatrix.shape[0]\n",
        "    M = d * linkMatrix + (1-d)/n * np.ones([n, n])\n",
        "    r = 100 * np.ones(n) / n\n",
        "\n",
        "    lastR = r\n",
        "    r = M @ r\n",
        "\n",
        "    while la.norm(lastR - r) > 0.01:\n",
        "        lastR = r\n",
        "        r = M @ r\n",
        "\n",
        "    return r\n"
      ],
      "execution_count": 13,
      "outputs": []
    },
    {
      "cell_type": "markdown",
      "metadata": {
        "id": "rjqtvbGYa9-7"
      },
      "source": [
        "## Протестируйте свой код перед отправкой\n",
        "Чтобы проверить код, который вы написали выше, запустите ячейку (выберите ячейку выше, затем нажмите кнопку воспроизведения [▶ |] или нажмите Shift-Enter).\n",
        "Затем вы можете использовать приведенный ниже код, чтобы проверить свою функцию.\n",
        "вы можете редактировать и запускать его сколько угодно."
      ]
    },
    {
      "cell_type": "code",
      "metadata": {
        "id": "S2OqwXAsa9-7",
        "outputId": "77a7c0e1-786b-4d89-f456-f188dfd35868",
        "colab": {
          "base_uri": "https://localhost:8080/"
        }
      },
      "source": [
        "# Use the following function to generate internets of different sizes.\n",
        "generate_internet(5)"
      ],
      "execution_count": 14,
      "outputs": [
        {
          "output_type": "execute_result",
          "data": {
            "text/plain": [
              "array([[1. , 0.2, 1. , 0. , 0. ],\n",
              "       [0. , 0.2, 0. , 0.5, 0. ],\n",
              "       [0. , 0.2, 0. , 0. , 0. ],\n",
              "       [0. , 0.2, 0. , 0. , 0. ],\n",
              "       [0. , 0.2, 0. , 0.5, 1. ]])"
            ]
          },
          "metadata": {},
          "execution_count": 14
        }
      ]
    },
    {
      "cell_type": "code",
      "metadata": {
        "id": "Xy0PEYiLa9-7"
      },
      "source": [
        "# Test your PageRank method against the built in \"eig\" method.\n",
        "# You should see yours is a lot faster for large internets\n",
        "\n",
        "# Сравните свой метод PageRank со встроенным методом 'eig'.\n",
        "# Вы должны увидеть, что ваш сайт работает намного быстрее для больших сетей\n",
        "L = generate_internet(10)"
      ],
      "execution_count": 15,
      "outputs": []
    },
    {
      "cell_type": "code",
      "metadata": {
        "id": "Qshn9KFya9-7"
      },
      "source": [
        "pageRank(L, 1)"
      ],
      "execution_count": null,
      "outputs": []
    },
    {
      "cell_type": "code",
      "metadata": {
        "id": "c9xsmLXIa9-7",
        "outputId": "8c2e9406-29d5-4177-ba33-b17e2c48949d",
        "colab": {
          "base_uri": "https://localhost:8080/"
        }
      },
      "source": [
        "\n",
        "# Обратите внимание, это вычисление собственных значений матрицы ссылок, L,\n",
        "# без демпфирования. Это может дать другие результаты, чем функция pageRank.\n",
        "# Если хотите, вы можете изменить эту ячейку, чтобы включить демпфирование.\n",
        "\n",
        "eVals, eVecs = la.eig(L) # выдает собственные векторы и значения\n",
        "order = np.absolute(eVals).argsort()[::-1] # сортировка по собственным значениям\n",
        "eVals = eVals[order]\n",
        "eVecs = eVecs[:,order]\n",
        "\n",
        "r = eVecs[:, 0]\n",
        "100 * np.real(r / np.sum(r))"
      ],
      "execution_count": 16,
      "outputs": [
        {
          "output_type": "execute_result",
          "data": {
            "text/plain": [
              "array([ 0.00000003,  0.00000003,  0.00000005, 57.14285693, 42.85714271,\n",
              "        0.00000009,  0.00000003,  0.00000003,  0.00000003,  0.00000007])"
            ]
          },
          "metadata": {},
          "execution_count": 16
        }
      ]
    },
    {
      "cell_type": "code",
      "metadata": {
        "id": "GrBZNO54a9-7",
        "outputId": "9997115b-9c4f-40c5-e56a-00bb5592c474",
        "colab": {
          "base_uri": "https://localhost:8080/",
          "height": 430
        }
      },
      "source": [
        "# Вы можете просмотреть PageRank графически.\n",
        "# Этот код будет рисовать столбчатую диаграмму, для каждого веб-сайта в сгенерированном Интернете,\n",
        "# Высота каждого столбца будет рейтингом в PageRank.\n",
        "# запустите этот код, чтобы увидеть PageRank для каждого варианта интернета, который вы создали.\n",
        "# Надеюсь, вы увидите, что вы могли бы ожидать:\n",
        "# есть несколько кластеров полезных веб-сайтов, но большинство в Интернете - мусор\n",
        "%matplotlib inline\n",
        "r = pageRank(generate_internet(100), 0.9)\n",
        "plt.bar(arange(r.shape[0]), r);"
      ],
      "execution_count": 18,
      "outputs": [
        {
          "output_type": "display_data",
          "data": {
            "text/plain": [
              "<Figure size 640x480 with 1 Axes>"
            ],
            "image/png": "[encoded data removed]"
          },
          "metadata": {}
        }
      ]
    },
    {
      "cell_type": "code",
      "metadata": {
        "id": "4-EMOkfVa9-7"
      },
      "source": [],
      "execution_count": null,
      "outputs": []
    }
  ]
}